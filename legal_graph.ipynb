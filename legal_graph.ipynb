{
 "cells": [
  {
   "cell_type": "code",
   "execution_count": 1,
   "metadata": {},
   "outputs": [
    {
     "name": "stdout",
     "output_type": "stream",
     "text": [
      "Note: you may need to restart the kernel to use updated packages.\n"
     ]
    },
    {
     "name": "stderr",
     "output_type": "stream",
     "text": [
      "ERROR: pip's dependency resolver does not currently take into account all the packages that are installed. This behaviour is the source of the following dependency conflicts.\n",
      "neo4j-graphrag 1.6.1 requires json-repair<0.40.0,>=0.39.1, but you have json-repair 0.42.0 which is incompatible.\n",
      "\n",
      "[notice] A new release of pip is available: 24.2 -> 25.0.1\n",
      "[notice] To update, run: python.exe -m pip install --upgrade pip\n"
     ]
    }
   ],
   "source": [
    "%pip install --upgrade --quiet  langchain langchain-community openai langchain-experimental neo4j tiktoken yfiles_jupyter_graphs python-dotenv json-repair langchain-openai langchain_core PyPDF2\n"
   ]
  },
  {
   "cell_type": "code",
   "execution_count": 2,
   "metadata": {},
   "outputs": [
    {
     "data": {
      "text/plain": [
       "True"
      ]
     },
     "execution_count": 2,
     "metadata": {},
     "output_type": "execute_result"
    }
   ],
   "source": [
    "from langchain_core.runnables import  RunnablePassthrough, RunnableLambda\n",
    "from langchain_core.prompts import ChatPromptTemplate\n",
    "from pydantic import BaseModel, Field\n",
    "from langchain_core.output_parsers import StrOutputParser\n",
    "from langchain_community.graphs import Neo4jGraph\n",
    "from langchain.text_splitter import RecursiveCharacterTextSplitter\n",
    "from langchain_experimental.graph_transformers import LLMGraphTransformer\n",
    "from neo4j import GraphDatabase\n",
    "from yfiles_jupyter_graphs import GraphWidget\n",
    "from langchain_community.vectorstores import Neo4jVector\n",
    "from langchain_community.document_loaders import TextLoader\n",
    "from langchain_community.vectorstores.neo4j_vector import remove_lucene_chars\n",
    "import os\n",
    "from neo4j import  Driver\n",
    "\n",
    "from dotenv import load_dotenv\n",
    "\n",
    "load_dotenv()"
   ]
  },
  {
   "cell_type": "code",
   "execution_count": 36,
   "metadata": {},
   "outputs": [],
   "source": [
    "# Obtener variables de entorno\n",
    "azure_endpoint = os.getenv(\"AZURE_OPENAI_ENDPOINT\")\n",
    "azure_api_key = os.getenv(\"AZURE_OPENAI_KEY\")\n",
    "azure_deployment = os.getenv(\"GPT_ENGINE\")\n",
    "api_version = os.getenv(\"API_VERSION\")\n",
    "neo4j_url = os.getenv(\"NEO4J_URL\")\n",
    "neo4j_username = os.getenv(\"NEO4J_USERNAME\")\n",
    "neo4j_password = os.getenv(\"NEO4J_PASSWORD\")\n",
    "azure_embedding_model=os.getenv(\"AZURE_EMBEDDING_MODEL\")\n",
    "embedding_deployment=os.getenv(\"EMBEDDING_DEPLOYMENT\")\n",
    "openai_api_type=os.getenv(\"OPEN_API_TYPE\")\n",
    "embedding_openai_api_version=os.getenv(\"EMBEDDING_OPEN_API_VERSION\")"
   ]
  },
  {
   "cell_type": "code",
   "execution_count": 10,
   "metadata": {},
   "outputs": [],
   "source": [
    "graph = Neo4jGraph(url=neo4j_url, username=neo4j_username, password=neo4j_password)"
   ]
  },
  {
   "cell_type": "code",
   "execution_count": 26,
   "metadata": {},
   "outputs": [],
   "source": [
    "FILES_FOLDER_PATH=\"./material\""
   ]
  },
  {
   "cell_type": "code",
   "execution_count": 27,
   "metadata": {},
   "outputs": [
    {
     "name": "stdout",
     "output_type": "stream",
     "text": [
      "Text extracted from: CastroSebastianJ_CV042025.pdf\n"
     ]
    }
   ],
   "source": [
    "import os\n",
    "import PyPDF2\n",
    "\n",
    "documents = []\n",
    "\n",
    "# Verifica si la carpeta existe\n",
    "if os.path.isdir(FILES_FOLDER_PATH):\n",
    "    for filename in os.listdir(FILES_FOLDER_PATH):\n",
    "        file_path = os.path.join(FILES_FOLDER_PATH, filename)\n",
    "\n",
    "        # Verifica si el archivo es un PDF\n",
    "        if filename.lower().endswith(\".pdf\"):\n",
    "            try:\n",
    "                with open(file_path, \"rb\") as f:\n",
    "                    reader = PyPDF2.PdfReader(f)\n",
    "                    text = \"\\n\".join([page.extract_text() for page in reader.pages if page.extract_text()])\n",
    "                    documents.append({\"filename\": filename, \"content\": text})\n",
    "                    print(f\"Text extracted from: {filename}\")\n",
    "            except Exception as e:\n",
    "                print(f\"Error reading {filename}: {e}\")\n",
    "\n",
    "else:\n",
    "    print(f\"The folder '{FILES_FOLDER_PATH}' does not exist.\")\n"
   ]
  },
  {
   "cell_type": "code",
   "execution_count": 28,
   "metadata": {},
   "outputs": [
    {
     "name": "stdout",
     "output_type": "stream",
     "text": [
      "CastroSebastianJ_CV042025.pdf - Length of content: 8545\n"
     ]
    }
   ],
   "source": [
    "for doc in documents:\n",
    "    print(f\"{doc['filename']} - Length of content: {len(doc['content'])}\")"
   ]
  },
  {
   "cell_type": "code",
   "execution_count": 29,
   "metadata": {},
   "outputs": [
    {
     "name": "stdout",
     "output_type": "stream",
     "text": [
      "18\n",
      "[Document(metadata={'filename': 'CastroSebastianJ_CV042025.pdf', 'chunk_id': 1}, page_content='Sebastián\\n \\nJ.\\n \\nCastro\\n \\nCórdoba,\\n \\nArgentina\\n \\n|\\n \\nLinkedIn\\n \\n|\\n \\n+54\\n \\n9\\n \\n3543601627\\n \\n|\\n \\nsebastiancastrofragueiro@gmail.com\\n \\nWORK\\n \\nEXPERIENCE\\n \\nPi\\n \\nData\\n \\nStrategy\\n \\n&\\n \\nConsulting\\n \\nArgentina\\n \\n(Remote)\\n \\nTechnical\\n \\nConsultant\\n \\n(TL)\\n \\nJuly\\n \\n2024\\n \\n-\\n \\npresent\\n \\nday\\n \\n●\\n \\nConduct\\n \\ntechnical\\n \\nfollow-up\\n \\nwith\\n \\nteam\\n \\nmembers\\n \\n(moderate\\n \\none-on-one\\n \\nmeetings,\\n \\nweekly\\n \\nmeetings,\\n \\ncode\\n \\nreviews).\\n \\n●\\n \\nProvide\\n \\nmentoring:\\n \\nmotivate\\n \\nand\\n \\nencourage\\n \\nprofessional\\n \\ngrowth\\n \\nwithin\\n \\nthe'), Document(metadata={'filename': 'CastroSebastianJ_CV042025.pdf', 'chunk_id': 2}, page_content='growth\\n \\nwithin\\n \\nthe\\n \\nteam.\\n \\n●\\n \\nConduct\\n \\nperformance\\n \\nevaluations,\\n \\nprovide\\n \\nfeedback,\\n \\nand\\n \\nassess\\n \\nthe\\n \\nseniority\\n \\nof\\n \\nteam\\n \\nmembers.\\n \\n●\\n \\nParticipate\\n \\nin\\n \\ntechnical\\n \\ninterview\\n \\nprocesses.\\n \\n●\\n \\nProvide\\n \\nconsulting\\n \\nservices\\n \\nto\\n \\nspecific\\n \\nclients.\\n \\n●\\n \\nMaintain\\n \\neffective\\n \\ncommunication\\n \\nwith\\n \\nthe\\n \\nSales/Commercial\\n \\narea\\n \\nto\\n \\nidentify\\n \\nnew\\n \\nbusiness\\n \\nopportunities.\\n \\n \\nData\\n \\nScientist\\n \\nJuly\\n \\n2023-\\n \\npresent\\n \\nday\\n \\n●\\n \\nDesign\\n \\nand\\n \\nimplement\\n \\nstatistical\\n \\nor'), Document(metadata={'filename': 'CastroSebastianJ_CV042025.pdf', 'chunk_id': 3}, page_content='statistical\\n \\nor\\n \\nmachine\\n \\nlearning\\n \\nsolutions\\n \\ntailored\\n \\nto\\n \\nbusiness\\n \\nneeds.\\n \\n●\\n \\nCollaborate\\n \\nwith\\n \\norganizational\\n \\nstakeholders\\n \\nto\\n \\nidentify\\n \\nopportunities\\n \\nfor\\n \\nleveraging\\n \\ncompany\\n \\ndata\\n \\nto\\n \\ndrive\\n \\nbusiness\\n \\nsolutions.\\n \\n●\\n \\nMine\\n \\nand\\n \\nanalyze\\n \\ndata\\n \\nfrom\\n \\ncompany\\n \\ndatabases\\n \\nto\\n \\noptimize\\n \\nand\\n \\nimprove\\n \\nproduct\\n \\ndevelopment,\\n \\nmarketing\\n \\ntechniques,\\n \\nand\\n \\nbusiness\\n \\nstrategies.\\n \\n●\\n \\nEngage\\n \\nin\\n \\nproject\\n \\nconceptualizations\\n \\nand\\n \\nprovide\\n \\ndata-driven'), Document(metadata={'filename': 'CastroSebastianJ_CV042025.pdf', 'chunk_id': 4}, page_content='provide\\n \\ndata-driven\\n \\nrecommendations.\\n \\n●\\n \\nDemand\\n \\nForecasting:\\n \\nbuild\\n \\na\\n \\nmultiple\\n \\ntime\\n \\nseries\\n \\nforecasting\\n \\nmodel\\n \\nfor\\n \\n200000\\n \\nstores.\\n \\n \\nData\\n \\nScience\\n \\nConsultant\\n \\nArgentina\\n \\n(Remote)\\n \\nFreelance\\n \\nprofessional\\n \\n-\\n \\nPart-time\\n \\nApril\\n \\n2023\\n \\n-\\n \\nJuly\\n \\n2023\\n \\n●\\n \\nDeveloped\\n \\ndata\\n \\nwrangling\\n \\npipelines\\n \\nusing\\n \\npyspark\\n \\nand\\n \\npandas\\n \\n(pyspark),\\n \\neffectively\\n \\ncleaning\\n \\nand\\n \\ntransforming\\n \\nraw\\n \\ndata\\n \\ninto\\n \\na\\n \\nusable\\n \\nformat\\n \\nfor\\n \\nanalysis\\n \\nand\\n \\nmodeling.\\n \\n●'), Document(metadata={'filename': 'CastroSebastianJ_CV042025.pdf', 'chunk_id': 5}, page_content='and\\n \\nmodeling.\\n \\n●\\n \\nUtilized\\n \\nPyspark\\n \\nand\\n \\nDatabricks\\n \\nto\\n \\nclean\\n \\nand\\n \\npreprocess\\n \\nlarge\\n \\ndatasets.\\n \\n●\\n \\nConducted\\n \\nthorough\\n \\ndata\\n \\ncleaning\\n \\nand\\n \\npreprocessing,\\n \\nincluding\\n \\nmissing\\n \\nvalue\\n \\nimputation,\\n \\noutlier\\n \\ndetection,\\n \\nand\\n \\nfeature\\n \\nscaling,\\n \\nresulting\\n \\nin\\n \\nimproved\\n \\nmodel\\n \\nperformance\\n \\nand\\n \\nmore\\n \\naccurate\\n \\ninsights.\\n \\n \\nSplight-AE')]\n"
     ]
    }
   ],
   "source": [
    "from langchain.text_splitter import RecursiveCharacterTextSplitter\n",
    "from langchain.schema import Document\n",
    "\n",
    "# Configurar el splitter\n",
    "text_splitter = RecursiveCharacterTextSplitter(chunk_size=512, chunk_overlap=24)\n",
    "\n",
    "# Convertir los documentos en chunks\n",
    "chunked_documents = []\n",
    "for doc in documents:\n",
    "    chunks = text_splitter.split_text(doc[\"content\"])\n",
    "    for i, chunk in enumerate(chunks):\n",
    "        chunked_documents.append(Document(page_content=chunk, metadata={\"filename\": doc[\"filename\"], \"chunk_id\": i + 1}))\n",
    "\n",
    "print(len(chunked_documents))\n",
    "print(chunked_documents[:5])\n",
    "\n"
   ]
  },
  {
   "cell_type": "code",
   "execution_count": 30,
   "metadata": {},
   "outputs": [],
   "source": [
    "import os\n",
    "from langchain.document_loaders import TextLoader\n",
    "from langchain.chat_models import AzureChatOpenAI\n",
    "from langchain.schema import SystemMessage\n",
    "\n",
    "\n",
    "# # Definir los nodos y relaciones permitidos para la extracción de información\n",
    "allowed_nodes = []\n",
    "allowed_relationships = []\n",
    "\n",
    "\n",
    "# Configurar Azure OpenAI\n",
    "llm = AzureChatOpenAI(\n",
    "    azure_endpoint=azure_endpoint,\n",
    "    openai_api_key=azure_api_key,\n",
    "    azure_deployment=azure_deployment,\n",
    "    model=azure_deployment,  \n",
    "    api_version=api_version,  \n",
    "    temperature=0\n",
    ")\n",
    "\n",
    "# Configurar el transformador de gráficos con el prompt\n",
    "llm_transformer = LLMGraphTransformer(\n",
    "    llm=llm,\n",
    "#     allowed_nodes=allowed_nodes,\n",
    "#     allowed_relationships=allowed_relationships,\n",
    " )\n",
    "graph_documents = llm_transformer.convert_to_graph_documents(chunked_documents)"
   ]
  },
  {
   "cell_type": "code",
   "execution_count": 31,
   "metadata": {},
   "outputs": [
    {
     "data": {
      "text/plain": [
       "GraphDocument(nodes=[Node(id='technical follow-up with team members', type='Activity', properties={}), Node(id='+54 9 3543601627', type='Contact', properties={}), Node(id='Córdoba, Argentina', type='Location', properties={}), Node(id='mentoring', type='Activity', properties={}), Node(id='sebastiancastrofragueiro@gmail.com', type='Email', properties={}), Node(id='Technical Consultant (TL)', type='Position', properties={}), Node(id='Argentina', type='Location', properties={}), Node(id='July 2024', type='Date', properties={}), Node(id='Sebastián J. Castro', type='Person', properties={}), Node(id='Pi Data Strategy & Consulting', type='Company', properties={}), Node(id='professional growth', type='Characteristic', properties={})], relationships=[Relationship(source=Node(id='Sebastián J. Castro', type='Person', properties={}), target=Node(id='Córdoba, Argentina', type='Location', properties={}), type='LOCATED_IN', properties={}), Relationship(source=Node(id='Sebastián J. Castro', type='Person', properties={}), target=Node(id='+54 9 3543601627', type='Contact', properties={}), type='HAS_CONTACT', properties={}), Relationship(source=Node(id='Sebastián J. Castro', type='Person', properties={}), target=Node(id='sebastiancastrofragueiro@gmail.com', type='Email', properties={}), type='HAS_EMAIL', properties={}), Relationship(source=Node(id='Sebastián J. Castro', type='Person', properties={}), target=Node(id='Pi Data Strategy & Consulting', type='Company', properties={}), type='WORKS_FOR', properties={}), Relationship(source=Node(id='Pi Data Strategy & Consulting', type='Company', properties={}), target=Node(id='Argentina', type='Location', properties={}), type='LOCATED_IN', properties={}), Relationship(source=Node(id='Sebastián J. Castro', type='Person', properties={}), target=Node(id='Technical Consultant (TL)', type='Position', properties={}), type='HAS_POSITION', properties={}), Relationship(source=Node(id='Sebastián J. Castro', type='Person', properties={}), target=Node(id='July 2024', type='Date', properties={}), type='STARTED_WORK', properties={}), Relationship(source=Node(id='Sebastián J. Castro', type='Person', properties={}), target=Node(id='technical follow-up with team members', type='Activity', properties={}), type='CONDUCTS', properties={}), Relationship(source=Node(id='Sebastián J. Castro', type='Person', properties={}), target=Node(id='mentoring', type='Activity', properties={}), type='PROVIDES', properties={}), Relationship(source=Node(id='Sebastián J. Castro', type='Person', properties={}), target=Node(id='professional growth', type='Characteristic', properties={}), type='ENCOURAGES', properties={})], source=Document(metadata={'filename': 'CastroSebastianJ_CV042025.pdf', 'chunk_id': 1}, page_content='Sebastián\\n \\nJ.\\n \\nCastro\\n \\nCórdoba,\\n \\nArgentina\\n \\n|\\n \\nLinkedIn\\n \\n|\\n \\n+54\\n \\n9\\n \\n3543601627\\n \\n|\\n \\nsebastiancastrofragueiro@gmail.com\\n \\nWORK\\n \\nEXPERIENCE\\n \\nPi\\n \\nData\\n \\nStrategy\\n \\n&\\n \\nConsulting\\n \\nArgentina\\n \\n(Remote)\\n \\nTechnical\\n \\nConsultant\\n \\n(TL)\\n \\nJuly\\n \\n2024\\n \\n-\\n \\npresent\\n \\nday\\n \\n●\\n \\nConduct\\n \\ntechnical\\n \\nfollow-up\\n \\nwith\\n \\nteam\\n \\nmembers\\n \\n(moderate\\n \\none-on-one\\n \\nmeetings,\\n \\nweekly\\n \\nmeetings,\\n \\ncode\\n \\nreviews).\\n \\n●\\n \\nProvide\\n \\nmentoring:\\n \\nmotivate\\n \\nand\\n \\nencourage\\n \\nprofessional\\n \\ngrowth\\n \\nwithin\\n \\nthe'))"
      ]
     },
     "execution_count": 31,
     "metadata": {},
     "output_type": "execute_result"
    }
   ],
   "source": [
    "graph_documents[0]"
   ]
  },
  {
   "cell_type": "markdown",
   "metadata": {},
   "source": [
    "CUIDADO! Para resetear el grafo en caso de ser necesario."
   ]
  },
  {
   "cell_type": "code",
   "execution_count": 47,
   "metadata": {},
   "outputs": [
    {
     "name": "stdout",
     "output_type": "stream",
     "text": [
      "Graph database cleared successfully.\n",
      "Node count: 0, Relationship count: 0\n"
     ]
    }
   ],
   "source": [
    "from neo4j import GraphDatabase\n",
    "\n",
    "# Conectar a la base de datos Neo4j\n",
    "driver = GraphDatabase.driver(uri=neo4j_url, auth=(neo4j_username, neo4j_password))\n",
    "\n",
    "# Función para limpiar el grafo\n",
    "def clear_graph(tx):\n",
    "    tx.run(\"MATCH (n) DETACH DELETE n\")\n",
    "\n",
    "# Función para comprobar si el grafo está vacío (contar nodos y relaciones)\n",
    "def check_empty_graph(tx):\n",
    "    # Contar tanto los nodos como las relaciones\n",
    "    result = tx.run(\"MATCH (n) OPTIONAL MATCH (n)-[r]->() RETURN count(n) AS node_count, count(r) AS relationship_count\")\n",
    "    for record in result:\n",
    "        return record[\"node_count\"], record[\"relationship_count\"]\n",
    "\n",
    "# Ejecutar la limpieza del grafo\n",
    "def execute_clear_graph():\n",
    "    with driver.session() as session:\n",
    "        session.execute_write(clear_graph)\n",
    "        print(\"Graph database cleared successfully.\")\n",
    "\n",
    "# Ejecutar la comprobación del estado del grafo\n",
    "def execute_check_empty_graph():\n",
    "    with driver.session() as session:\n",
    "        node_count, relationship_count = session.execute_read(check_empty_graph)\n",
    "        print(f\"Node count: {node_count}, Relationship count: {relationship_count}\")\n",
    "\n",
    "# Limpiar el grafo y luego verificar\n",
    "execute_clear_graph()          # Limpiar el grafo\n",
    "execute_check_empty_graph()    # Verificar que está vacío\n"
   ]
  },
  {
   "cell_type": "code",
   "execution_count": 33,
   "metadata": {},
   "outputs": [],
   "source": [
    "graph.add_graph_documents(\n",
    "    graph_documents,\n",
    "    baseEntityLabel=True,\n",
    "    include_source=True\n",
    ")"
   ]
  },
  {
   "cell_type": "code",
   "execution_count": 48,
   "metadata": {},
   "outputs": [
    {
     "data": {
      "application/vnd.jupyter.widget-view+json": {
       "model_id": "bce3dfd5998b48c0be9ed2bca3bdb34f",
       "version_major": 2,
       "version_minor": 0
      },
      "text/plain": [
       "GraphWidget(layout=Layout(height='500px', width='100%'))"
      ]
     },
     "metadata": {},
     "output_type": "display_data"
    }
   ],
   "source": [
    "def showGraph():\n",
    "    driver = GraphDatabase.driver(\n",
    "        uri = neo4j_url,\n",
    "        auth = (neo4j_username,\n",
    "                neo4j_password)\n",
    "    )\n",
    "    session = driver.session()\n",
    "    widget = GraphWidget(graph=session.run(\"MATCH (s)-[r:!MENTIONS]->(t) RETURN s,r,t\").graph())\n",
    "    widget.node_label_mapping = 'id'\n",
    "    return widget\n",
    "\n",
    "showGraph()"
   ]
  },
  {
   "cell_type": "code",
   "execution_count": null,
   "metadata": {},
   "outputs": [],
   "source": [
    "import os\n",
    "from langchain.embeddings import OpenAIEmbeddings\n",
    "from langchain.vectorstores.neo4j_vector import Neo4jVector\n",
    "from langchain_openai import AzureOpenAIEmbeddings\n",
    "\n",
    "# Configurar Embeddings de Azure OpenAI\n",
    "embeddings = AzureOpenAIEmbeddings(\n",
    "    model=azure_embedding_model,\n",
    "    openai_api_key=azure_api_key,\n",
    "    azure_endpoint=azure_endpoint, \n",
    "    deployment=embedding_deployment, \n",
    "    openai_api_type=openai_api_type,\n",
    "    openai_api_version=embedding_openai_api_version,\n",
    ")\n",
    "\n",
    "# Crear índice vectorial en Neo4j\n",
    "vector_index = Neo4jVector.from_existing_graph(\n",
    "    embeddings,\n",
    "    search_type=\"hybrid\",\n",
    "    node_label=\"Document\",\n",
    "    text_node_properties=[\"text\"],\n",
    "    embedding_node_property=\"embedding\",\n",
    "    url=neo4j_url,\n",
    "    username=neo4j_username,\n",
    "    password=neo4j_password,\n",
    ")\n",
    "\n",
    "# Convertir el índice en un Retriever\n",
    "vector_retriever = vector_index.as_retriever()"
   ]
  },
  {
   "cell_type": "code",
   "execution_count": 38,
   "metadata": {},
   "outputs": [],
   "source": [
    "driver = GraphDatabase.driver(\n",
    "        uri = neo4j_url, \n",
    "        auth = (neo4j_username,\n",
    "                neo4j_password)\n",
    "    )\n",
    "\n",
    "def create_fulltext_index(tx):\n",
    "    query = '''\n",
    "    CREATE FULLTEXT INDEX `fulltext_entity_id` \n",
    "    FOR (n:__Entity__) \n",
    "    ON EACH [n.id];\n",
    "    '''\n",
    "    tx.run(query)\n",
    "\n",
    "# Function to execute the query\n",
    "def create_index():\n",
    "    with driver.session() as session:\n",
    "        session.execute_write(create_fulltext_index)\n",
    "        print(\"Fulltext index created successfully.\")\n",
    "\n",
    "# Call the function to create the index\n",
    "try:\n",
    "    create_index()\n",
    "except:\n",
    "    pass\n",
    "\n",
    "# Close the driver connection\n",
    "driver.close()"
   ]
  },
  {
   "cell_type": "code",
   "execution_count": 39,
   "metadata": {},
   "outputs": [],
   "source": [
    "from langchain.prompts import PromptTemplate\n",
    "from langchain.chains import GraphCypherQAChain\n",
    "from langchain.chat_models import AzureChatOpenAI\n",
    "from langchain_core.prompts.prompt import PromptTemplate\n",
    "\n",
    "\n",
    "# Configurar Azure OpenAI\n",
    "llmGraph= AzureChatOpenAI(\n",
    "    azure_endpoint=azure_endpoint,\n",
    "    openai_api_key=azure_api_key,\n",
    "    azure_deployment=azure_deployment,\n",
    "    model=azure_deployment,\n",
    "    api_version=api_version,\n",
    "    temperature=0\n",
    ")\n",
    "\n",
    "\n",
    "# Usar GraphCypherQAChain para integrar las consultas al gráfico y la LLM\n",
    "chain = GraphCypherQAChain.from_llm(\n",
    "    llmGraph,\n",
    "    graph=graph,\n",
    "    verbose=True,\n",
    "    allow_dangerous_requests=True,\n",
    "    validate_cypher=True\n",
    ")\n",
    "\n",
    "# Función para hacer las preguntas all llm contra el graph\n",
    "def ask_question(query):\n",
    "    response = chain.invoke({\"query\": query})\n",
    "    return response\n"
   ]
  },
  {
   "cell_type": "markdown",
   "metadata": {},
   "source": [
    "Lo que ocurre por detras:\n",
    "1. Conuslta el schema del grafo, de esta forma puede encontrar una query adecuada\n",
    "2. Genera la consulta cypher.\n",
    "3. Realiza una valdiaciòn de la conuslta cypher_query_corrector.\n",
    "4. Ejecuta la consulta contra el grafo.\n",
    "5. Una ultima consulta a un llm para obtener el reusltado final."
   ]
  },
  {
   "cell_type": "code",
   "execution_count": 41,
   "metadata": {},
   "outputs": [
    {
     "name": "stdout",
     "output_type": "stream",
     "text": [
      "\n",
      "\n",
      "\u001b[1m> Entering new GraphCypherQAChain chain...\u001b[0m\n",
      "Generated Cypher:\n",
      "\u001b[32;1m\u001b[1;3mcypher\n",
      "MATCH (d:Document)-[:MENTIONS]->(h:Hotel)\n",
      "RETURN d.text, h.id\n",
      "\u001b[0m\n",
      "Full Context:\n",
      "\u001b[32;1m\u001b[1;3m[]\u001b[0m\n",
      "\n",
      "\u001b[1m> Finished chain.\u001b[0m\n"
     ]
    },
    {
     "data": {
      "text/plain": [
       "{'query': '', 'result': \"I don't know the answer.\"}"
      ]
     },
     "execution_count": 41,
     "metadata": {},
     "output_type": "execute_result"
    }
   ],
   "source": [
    "ask_question(\"\")"
   ]
  },
  {
   "cell_type": "code",
   "execution_count": 42,
   "metadata": {},
   "outputs": [],
   "source": [
    "def full_retriever(query: str):\n",
    "    graph_data = ask_question(query)\n",
    "    vector_data = [el.page_content for el in vector_retriever.invoke(query)]\n",
    "    final_data = f\"\"\"Graph data:\n",
    "{graph_data}\n",
    "vector data:\n",
    "{\"#Document \".join(vector_data)}\n",
    "    \"\"\"\n",
    "    print(final_data)\n",
    "    return final_data"
   ]
  },
  {
   "cell_type": "code",
   "execution_count": 43,
   "metadata": {},
   "outputs": [],
   "source": [
    "llm_final_answer = AzureChatOpenAI(\n",
    "    azure_endpoint=azure_endpoint,\n",
    "    openai_api_key=azure_api_key,\n",
    "    azure_deployment=azure_deployment,\n",
    "    model=azure_deployment,\n",
    "    api_version=api_version,\n",
    "    temperature= 0\n",
    ")\n",
    "\n",
    "final_prompt_structure = ChatPromptTemplate.from_messages(\n",
    "    [\n",
    "        (\"system\", \"You are AI assistant and you will answers questions using graph data and the vector data.\"),\n",
    "        (\"human\", \"\"\"Answer the question based only on the following context:\n",
    "{context}\n",
    "\n",
    "Question: {query}\n",
    "Use natural language and be concise.\n",
    "Answer:\"\"\"),\n",
    "    ]\n",
    ")\n",
    "\n",
    "# 3. Crea una función simple para procesar la entrada\n",
    "def process_input(query):\n",
    "    # Obtener el contexto usando el retriever\n",
    "    context = full_retriever(query)\n",
    "    \n",
    "    # Preparar los datos para el prompt\n",
    "    data = {\n",
    "        \"context\": context,\n",
    "        \"query\": query\n",
    "    }\n",
    "\n",
    "    final_prompt = final_prompt_structure.format(**data)\n",
    "    response = llm_final_answer.invoke(final_prompt)\n",
    "    return response.text()"
   ]
  },
  {
   "cell_type": "code",
   "execution_count": 45,
   "metadata": {},
   "outputs": [
    {
     "name": "stdout",
     "output_type": "stream",
     "text": [
      "\n",
      "\n",
      "\u001b[1m> Entering new GraphCypherQAChain chain...\u001b[0m\n",
      "Generated Cypher:\n",
      "\u001b[32;1m\u001b[1;3mThe provided schema does not include any properties or relationships related to \"Graduation year.\" Therefore, it is not possible to construct a Cypher statement for this query based on the given schema.\u001b[0m\n"
     ]
    },
    {
     "ename": "CypherSyntaxError",
     "evalue": "{code: Neo.ClientError.Statement.SyntaxError} {message: Invalid input 'The': expected 'FOREACH', 'ALTER', 'ORDER BY', 'CALL', 'USING PERIODIC COMMIT', 'CREATE', 'LOAD CSV', 'START DATABASE', 'STOP DATABASE', 'DEALLOCATE', 'DELETE', 'DENY', 'DETACH', 'DROP', 'DRYRUN', 'FINISH', 'GRANT', 'INSERT', 'LIMIT', 'MATCH', 'MERGE', 'NODETACH', 'OFFSET', 'OPTIONAL', 'REALLOCATE', 'REMOVE', 'RENAME', 'RETURN', 'REVOKE', 'ENABLE SERVER', 'SET', 'SHOW', 'SKIP', 'TERMINATE', 'UNWIND', 'USE' or 'WITH' (line 1, column 1 (offset: 0))\n\"The provided schema does not include any properties or relationships related to \"Graduation year.\" Therefore, it is not possible to construct a Cypher statement for this query based on the given schema.\"\n ^}",
     "output_type": "error",
     "traceback": [
      "\u001b[31m---------------------------------------------------------------------------\u001b[39m",
      "\u001b[31mGqlError\u001b[39m                                  Traceback (most recent call last)",
      "\u001b[31mGqlError\u001b[39m: {gql_status: 42I06} {gql_status_description: error: syntax error or access rule violation - invalid input. Invalid input 'The', expected: 'FOREACH', 'ALTER', 'ORDER BY', 'CALL', 'USING PERIODIC COMMIT', 'CREATE', 'LOAD CSV', 'START DATABASE', 'STOP DATABASE', 'DEALLOCATE', 'DELETE', 'DENY', 'DETACH', 'DROP', 'DRYRUN', 'FINISH', 'GRANT', 'INSERT', 'LIMIT', 'MATCH', 'MERGE', 'NODETACH', 'OFFSET', 'OPTIONAL', 'REALLOCATE', 'REMOVE', 'RENAME', 'RETURN', 'REVOKE', 'ENABLE SERVER', 'SET', 'SHOW', 'SKIP', 'TERMINATE', 'UNWIND', 'USE' or 'WITH'.} {message: 42I06: Invalid input 'The', expected: 'FOREACH', 'ALTER', 'ORDER BY', 'CALL', 'USING PERIODIC COMMIT', 'CREATE', 'LOAD CSV', 'START DATABASE', 'STOP DATABASE', 'DEALLOCATE', 'DELETE', 'DENY', 'DETACH', 'DROP', 'DRYRUN', 'FINISH', 'GRANT', 'INSERT', 'LIMIT', 'MATCH', 'MERGE', 'NODETACH', 'OFFSET', 'OPTIONAL', 'REALLOCATE', 'REMOVE', 'RENAME', 'RETURN', 'REVOKE', 'ENABLE SERVER', 'SET', 'SHOW', 'SKIP', 'TERMINATE', 'UNWIND', 'USE' or 'WITH'.} {diagnostic_record: {'_classification': 'CLIENT_ERROR', '_position': {'offset': 0, 'column': 1, 'line': 1}, 'OPERATION': '', 'OPERATION_CODE': '0', 'CURRENT_SCHEMA': '/'}} {raw_classification: CLIENT_ERROR}",
      "\nThe above exception was the direct cause of the following exception:\n",
      "\u001b[31mCypherSyntaxError\u001b[39m                         Traceback (most recent call last)",
      "\u001b[36mCell\u001b[39m\u001b[36m \u001b[39m\u001b[32mIn[45]\u001b[39m\u001b[32m, line 2\u001b[39m\n\u001b[32m      1\u001b[39m query = \u001b[33m\"\u001b[39m\u001b[33mGraduation year\u001b[39m\u001b[33m\"\u001b[39m\n\u001b[32m----> \u001b[39m\u001b[32m2\u001b[39m response = \u001b[43mprocess_input\u001b[49m\u001b[43m(\u001b[49m\u001b[43mquery\u001b[49m\u001b[43m)\u001b[49m\n\u001b[32m      3\u001b[39m \u001b[38;5;28mprint\u001b[39m(\u001b[33m\"\u001b[39m\u001b[33m--------FINAL ANSWER--------\u001b[39m\u001b[33m\"\u001b[39m)\n\u001b[32m      4\u001b[39m \u001b[38;5;28mprint\u001b[39m(response)\n",
      "\u001b[36mCell\u001b[39m\u001b[36m \u001b[39m\u001b[32mIn[43]\u001b[39m\u001b[32m, line 25\u001b[39m, in \u001b[36mprocess_input\u001b[39m\u001b[34m(query)\u001b[39m\n\u001b[32m     23\u001b[39m \u001b[38;5;28;01mdef\u001b[39;00m\u001b[38;5;250m \u001b[39m\u001b[34mprocess_input\u001b[39m(query):\n\u001b[32m     24\u001b[39m     \u001b[38;5;66;03m# Obtener el contexto usando el retriever\u001b[39;00m\n\u001b[32m---> \u001b[39m\u001b[32m25\u001b[39m     context = \u001b[43mfull_retriever\u001b[49m\u001b[43m(\u001b[49m\u001b[43mquery\u001b[49m\u001b[43m)\u001b[49m\n\u001b[32m     27\u001b[39m     \u001b[38;5;66;03m# Preparar los datos para el prompt\u001b[39;00m\n\u001b[32m     28\u001b[39m     data = {\n\u001b[32m     29\u001b[39m         \u001b[33m\"\u001b[39m\u001b[33mcontext\u001b[39m\u001b[33m\"\u001b[39m: context,\n\u001b[32m     30\u001b[39m         \u001b[33m\"\u001b[39m\u001b[33mquery\u001b[39m\u001b[33m\"\u001b[39m: query\n\u001b[32m     31\u001b[39m     }\n",
      "\u001b[36mCell\u001b[39m\u001b[36m \u001b[39m\u001b[32mIn[42]\u001b[39m\u001b[32m, line 2\u001b[39m, in \u001b[36mfull_retriever\u001b[39m\u001b[34m(query)\u001b[39m\n\u001b[32m      1\u001b[39m \u001b[38;5;28;01mdef\u001b[39;00m\u001b[38;5;250m \u001b[39m\u001b[34mfull_retriever\u001b[39m(query: \u001b[38;5;28mstr\u001b[39m):\n\u001b[32m----> \u001b[39m\u001b[32m2\u001b[39m     graph_data = \u001b[43mask_question\u001b[49m\u001b[43m(\u001b[49m\u001b[43mquery\u001b[49m\u001b[43m)\u001b[49m\n\u001b[32m      3\u001b[39m     vector_data = [el.page_content \u001b[38;5;28;01mfor\u001b[39;00m el \u001b[38;5;129;01min\u001b[39;00m vector_retriever.invoke(query)]\n\u001b[32m      4\u001b[39m     final_data = \u001b[33mf\u001b[39m\u001b[33m\"\"\"\u001b[39m\u001b[33mGraph data:\u001b[39m\n\u001b[32m      5\u001b[39m \u001b[38;5;132;01m{\u001b[39;00mgraph_data\u001b[38;5;132;01m}\u001b[39;00m\n\u001b[32m      6\u001b[39m \u001b[33mvector data:\u001b[39m\n\u001b[32m      7\u001b[39m \u001b[38;5;132;01m{\u001b[39;00m\u001b[33m\"\u001b[39m\u001b[33m#Document \u001b[39m\u001b[33m\"\u001b[39m.join(vector_data)\u001b[38;5;132;01m}\u001b[39;00m\n\u001b[32m      8\u001b[39m \u001b[33m    \u001b[39m\u001b[33m\"\"\"\u001b[39m\n",
      "\u001b[36mCell\u001b[39m\u001b[36m \u001b[39m\u001b[32mIn[39]\u001b[39m\u001b[32m, line 29\u001b[39m, in \u001b[36mask_question\u001b[39m\u001b[34m(query)\u001b[39m\n\u001b[32m     28\u001b[39m \u001b[38;5;28;01mdef\u001b[39;00m\u001b[38;5;250m \u001b[39m\u001b[34mask_question\u001b[39m(query):\n\u001b[32m---> \u001b[39m\u001b[32m29\u001b[39m     response = \u001b[43mchain\u001b[49m\u001b[43m.\u001b[49m\u001b[43minvoke\u001b[49m\u001b[43m(\u001b[49m\u001b[43m{\u001b[49m\u001b[33;43m\"\u001b[39;49m\u001b[33;43mquery\u001b[39;49m\u001b[33;43m\"\u001b[39;49m\u001b[43m:\u001b[49m\u001b[43m \u001b[49m\u001b[43mquery\u001b[49m\u001b[43m}\u001b[49m\u001b[43m)\u001b[49m\n\u001b[32m     30\u001b[39m     \u001b[38;5;28;01mreturn\u001b[39;00m response\n",
      "\u001b[36mFile \u001b[39m\u001b[32mc:\\Users\\ExequielSilvestre\\Desktop\\Cursos\\legal-graphrag\\venv\\Lib\\site-packages\\langchain\\chains\\base.py:167\u001b[39m, in \u001b[36mChain.invoke\u001b[39m\u001b[34m(self, input, config, **kwargs)\u001b[39m\n\u001b[32m    165\u001b[39m \u001b[38;5;28;01mexcept\u001b[39;00m \u001b[38;5;167;01mBaseException\u001b[39;00m \u001b[38;5;28;01mas\u001b[39;00m e:\n\u001b[32m    166\u001b[39m     run_manager.on_chain_error(e)\n\u001b[32m--> \u001b[39m\u001b[32m167\u001b[39m     \u001b[38;5;28;01mraise\u001b[39;00m e\n\u001b[32m    168\u001b[39m run_manager.on_chain_end(outputs)\n\u001b[32m    170\u001b[39m \u001b[38;5;28;01mif\u001b[39;00m include_run_info:\n",
      "\u001b[36mFile \u001b[39m\u001b[32mc:\\Users\\ExequielSilvestre\\Desktop\\Cursos\\legal-graphrag\\venv\\Lib\\site-packages\\langchain\\chains\\base.py:157\u001b[39m, in \u001b[36mChain.invoke\u001b[39m\u001b[34m(self, input, config, **kwargs)\u001b[39m\n\u001b[32m    154\u001b[39m \u001b[38;5;28;01mtry\u001b[39;00m:\n\u001b[32m    155\u001b[39m     \u001b[38;5;28mself\u001b[39m._validate_inputs(inputs)\n\u001b[32m    156\u001b[39m     outputs = (\n\u001b[32m--> \u001b[39m\u001b[32m157\u001b[39m         \u001b[38;5;28;43mself\u001b[39;49m\u001b[43m.\u001b[49m\u001b[43m_call\u001b[49m\u001b[43m(\u001b[49m\u001b[43minputs\u001b[49m\u001b[43m,\u001b[49m\u001b[43m \u001b[49m\u001b[43mrun_manager\u001b[49m\u001b[43m=\u001b[49m\u001b[43mrun_manager\u001b[49m\u001b[43m)\u001b[49m\n\u001b[32m    158\u001b[39m         \u001b[38;5;28;01mif\u001b[39;00m new_arg_supported\n\u001b[32m    159\u001b[39m         \u001b[38;5;28;01melse\u001b[39;00m \u001b[38;5;28mself\u001b[39m._call(inputs)\n\u001b[32m    160\u001b[39m     )\n\u001b[32m    162\u001b[39m     final_outputs: \u001b[38;5;28mdict\u001b[39m[\u001b[38;5;28mstr\u001b[39m, Any] = \u001b[38;5;28mself\u001b[39m.prep_outputs(\n\u001b[32m    163\u001b[39m         inputs, outputs, return_only_outputs\n\u001b[32m    164\u001b[39m     )\n\u001b[32m    165\u001b[39m \u001b[38;5;28;01mexcept\u001b[39;00m \u001b[38;5;167;01mBaseException\u001b[39;00m \u001b[38;5;28;01mas\u001b[39;00m e:\n",
      "\u001b[36mFile \u001b[39m\u001b[32mc:\\Users\\ExequielSilvestre\\Desktop\\Cursos\\legal-graphrag\\venv\\Lib\\site-packages\\langchain_community\\chains\\graph_qa\\cypher.py:392\u001b[39m, in \u001b[36mGraphCypherQAChain._call\u001b[39m\u001b[34m(self, inputs, run_manager)\u001b[39m\n\u001b[32m    389\u001b[39m \u001b[38;5;66;03m# Retrieve and limit the number of results\u001b[39;00m\n\u001b[32m    390\u001b[39m \u001b[38;5;66;03m# Generated Cypher be null if query corrector identifies invalid schema\u001b[39;00m\n\u001b[32m    391\u001b[39m \u001b[38;5;28;01mif\u001b[39;00m generated_cypher:\n\u001b[32m--> \u001b[39m\u001b[32m392\u001b[39m     context = \u001b[38;5;28;43mself\u001b[39;49m\u001b[43m.\u001b[49m\u001b[43mgraph\u001b[49m\u001b[43m.\u001b[49m\u001b[43mquery\u001b[49m\u001b[43m(\u001b[49m\u001b[43mgenerated_cypher\u001b[49m\u001b[43m)\u001b[49m[: \u001b[38;5;28mself\u001b[39m.top_k]\n\u001b[32m    393\u001b[39m \u001b[38;5;28;01melse\u001b[39;00m:\n\u001b[32m    394\u001b[39m     context = []\n",
      "\u001b[36mFile \u001b[39m\u001b[32mc:\\Users\\ExequielSilvestre\\Desktop\\Cursos\\legal-graphrag\\venv\\Lib\\site-packages\\langchain_community\\graphs\\neo4j_graph.py:467\u001b[39m, in \u001b[36mNeo4jGraph.query\u001b[39m\u001b[34m(self, query, params)\u001b[39m\n\u001b[32m    464\u001b[39m \u001b[38;5;28;01mfrom\u001b[39;00m\u001b[38;5;250m \u001b[39m\u001b[34;01mneo4j\u001b[39;00m\u001b[34;01m.\u001b[39;00m\u001b[34;01mexceptions\u001b[39;00m\u001b[38;5;250m \u001b[39m\u001b[38;5;28;01mimport\u001b[39;00m Neo4jError\n\u001b[32m    466\u001b[39m \u001b[38;5;28;01mtry\u001b[39;00m:\n\u001b[32m--> \u001b[39m\u001b[32m467\u001b[39m     data, _, _ = \u001b[38;5;28;43mself\u001b[39;49m\u001b[43m.\u001b[49m\u001b[43m_driver\u001b[49m\u001b[43m.\u001b[49m\u001b[43mexecute_query\u001b[49m\u001b[43m(\u001b[49m\n\u001b[32m    468\u001b[39m \u001b[43m        \u001b[49m\u001b[43mQuery\u001b[49m\u001b[43m(\u001b[49m\u001b[43mtext\u001b[49m\u001b[43m=\u001b[49m\u001b[43mquery\u001b[49m\u001b[43m,\u001b[49m\u001b[43m \u001b[49m\u001b[43mtimeout\u001b[49m\u001b[43m=\u001b[49m\u001b[38;5;28;43mself\u001b[39;49m\u001b[43m.\u001b[49m\u001b[43mtimeout\u001b[49m\u001b[43m)\u001b[49m\u001b[43m,\u001b[49m\n\u001b[32m    469\u001b[39m \u001b[43m        \u001b[49m\u001b[43mdatabase_\u001b[49m\u001b[43m=\u001b[49m\u001b[38;5;28;43mself\u001b[39;49m\u001b[43m.\u001b[49m\u001b[43m_database\u001b[49m\u001b[43m,\u001b[49m\n\u001b[32m    470\u001b[39m \u001b[43m        \u001b[49m\u001b[43mparameters_\u001b[49m\u001b[43m=\u001b[49m\u001b[43mparams\u001b[49m\u001b[43m,\u001b[49m\n\u001b[32m    471\u001b[39m \u001b[43m    \u001b[49m\u001b[43m)\u001b[49m\n\u001b[32m    472\u001b[39m     json_data = [r.data() \u001b[38;5;28;01mfor\u001b[39;00m r \u001b[38;5;129;01min\u001b[39;00m data]\n\u001b[32m    473\u001b[39m     \u001b[38;5;28;01mif\u001b[39;00m \u001b[38;5;28mself\u001b[39m.sanitize:\n",
      "\u001b[36mFile \u001b[39m\u001b[32mc:\\Users\\ExequielSilvestre\\Desktop\\Cursos\\legal-graphrag\\venv\\Lib\\site-packages\\neo4j\\_sync\\driver.py:970\u001b[39m, in \u001b[36mDriver.execute_query\u001b[39m\u001b[34m(self, query_, parameters_, routing_, database_, impersonated_user_, bookmark_manager_, auth_, result_transformer_, **kwargs)\u001b[39m\n\u001b[32m    966\u001b[39m     \u001b[38;5;28;01mraise\u001b[39;00m \u001b[38;5;167;01mValueError\u001b[39;00m(\n\u001b[32m    967\u001b[39m         \u001b[33mf\u001b[39m\u001b[33m\"\u001b[39m\u001b[33mInvalid routing control value: \u001b[39m\u001b[38;5;132;01m{\u001b[39;00mrouting_\u001b[38;5;132;01m!r}\u001b[39;00m\u001b[33m\"\u001b[39m\n\u001b[32m    968\u001b[39m     )\n\u001b[32m    969\u001b[39m \u001b[38;5;28;01mwith\u001b[39;00m session._pipelined_begin:\n\u001b[32m--> \u001b[39m\u001b[32m970\u001b[39m     \u001b[38;5;28;01mreturn\u001b[39;00m \u001b[43msession\u001b[49m\u001b[43m.\u001b[49m\u001b[43m_run_transaction\u001b[49m\u001b[43m(\u001b[49m\n\u001b[32m    971\u001b[39m \u001b[43m        \u001b[49m\u001b[43maccess_mode\u001b[49m\u001b[43m,\u001b[49m\n\u001b[32m    972\u001b[39m \u001b[43m        \u001b[49m\u001b[43mTelemetryAPI\u001b[49m\u001b[43m.\u001b[49m\u001b[43mDRIVER\u001b[49m\u001b[43m,\u001b[49m\n\u001b[32m    973\u001b[39m \u001b[43m        \u001b[49m\u001b[43mwork\u001b[49m\u001b[43m,\u001b[49m\n\u001b[32m    974\u001b[39m \u001b[43m        \u001b[49m\u001b[43m(\u001b[49m\u001b[43mquery_str\u001b[49m\u001b[43m,\u001b[49m\u001b[43m \u001b[49m\u001b[43mparameters\u001b[49m\u001b[43m,\u001b[49m\u001b[43m \u001b[49m\u001b[43mresult_transformer_\u001b[49m\u001b[43m)\u001b[49m\u001b[43m,\u001b[49m\n\u001b[32m    975\u001b[39m \u001b[43m        \u001b[49m\u001b[43m{\u001b[49m\u001b[43m}\u001b[49m\u001b[43m,\u001b[49m\n\u001b[32m    976\u001b[39m \u001b[43m    \u001b[49m\u001b[43m)\u001b[49m\n",
      "\u001b[36mFile \u001b[39m\u001b[32mc:\\Users\\ExequielSilvestre\\Desktop\\Cursos\\legal-graphrag\\venv\\Lib\\site-packages\\neo4j\\_sync\\work\\session.py:583\u001b[39m, in \u001b[36mSession._run_transaction\u001b[39m\u001b[34m(self, access_mode, api, transaction_function, args, kwargs)\u001b[39m\n\u001b[32m    581\u001b[39m tx = \u001b[38;5;28mself\u001b[39m._transaction\n\u001b[32m    582\u001b[39m \u001b[38;5;28;01mtry\u001b[39;00m:\n\u001b[32m--> \u001b[39m\u001b[32m583\u001b[39m     result = \u001b[43mtransaction_function\u001b[49m\u001b[43m(\u001b[49m\u001b[43mtx\u001b[49m\u001b[43m,\u001b[49m\u001b[43m \u001b[49m\u001b[43m*\u001b[49m\u001b[43margs\u001b[49m\u001b[43m,\u001b[49m\u001b[43m \u001b[49m\u001b[43m*\u001b[49m\u001b[43m*\u001b[49m\u001b[43mkwargs\u001b[49m\u001b[43m)\u001b[49m\n\u001b[32m    584\u001b[39m \u001b[38;5;28;01mexcept\u001b[39;00m asyncio.CancelledError:\n\u001b[32m    585\u001b[39m     \u001b[38;5;66;03m# if cancellation callback has not been called yet:\u001b[39;00m\n\u001b[32m    586\u001b[39m     \u001b[38;5;28;01mif\u001b[39;00m \u001b[38;5;28mself\u001b[39m._transaction \u001b[38;5;129;01mis\u001b[39;00m \u001b[38;5;129;01mnot\u001b[39;00m \u001b[38;5;28;01mNone\u001b[39;00m:\n",
      "\u001b[36mFile \u001b[39m\u001b[32mc:\\Users\\ExequielSilvestre\\Desktop\\Cursos\\legal-graphrag\\venv\\Lib\\site-packages\\neo4j\\_work\\query.py:144\u001b[39m, in \u001b[36munit_of_work.<locals>.wrapper.<locals>.wrapped\u001b[39m\u001b[34m(*args, **kwargs)\u001b[39m\n\u001b[32m    143\u001b[39m \u001b[38;5;28;01mdef\u001b[39;00m\u001b[38;5;250m \u001b[39m\u001b[34mwrapped\u001b[39m(*args, **kwargs):\n\u001b[32m--> \u001b[39m\u001b[32m144\u001b[39m     \u001b[38;5;28;01mreturn\u001b[39;00m \u001b[43mf\u001b[49m\u001b[43m(\u001b[49m\u001b[43m*\u001b[49m\u001b[43margs\u001b[49m\u001b[43m,\u001b[49m\u001b[43m \u001b[49m\u001b[43m*\u001b[49m\u001b[43m*\u001b[49m\u001b[43mkwargs\u001b[49m\u001b[43m)\u001b[49m\n",
      "\u001b[36mFile \u001b[39m\u001b[32mc:\\Users\\ExequielSilvestre\\Desktop\\Cursos\\legal-graphrag\\venv\\Lib\\site-packages\\neo4j\\_sync\\driver.py:1306\u001b[39m, in \u001b[36m_work\u001b[39m\u001b[34m(tx, query, parameters, transformer)\u001b[39m\n\u001b[32m   1300\u001b[39m \u001b[38;5;28;01mdef\u001b[39;00m\u001b[38;5;250m \u001b[39m\u001b[34m_work\u001b[39m(\n\u001b[32m   1301\u001b[39m     tx: ManagedTransaction,\n\u001b[32m   1302\u001b[39m     query: te.LiteralString,\n\u001b[32m   1303\u001b[39m     parameters: \u001b[38;5;28mdict\u001b[39m[\u001b[38;5;28mstr\u001b[39m, t.Any],\n\u001b[32m   1304\u001b[39m     transformer: t.Callable[[Result], t.Union[_T]],\n\u001b[32m   1305\u001b[39m ) -> _T:\n\u001b[32m-> \u001b[39m\u001b[32m1306\u001b[39m     res = \u001b[43mtx\u001b[49m\u001b[43m.\u001b[49m\u001b[43mrun\u001b[49m\u001b[43m(\u001b[49m\u001b[43mquery\u001b[49m\u001b[43m,\u001b[49m\u001b[43m \u001b[49m\u001b[43mparameters\u001b[49m\u001b[43m)\u001b[49m\n\u001b[32m   1307\u001b[39m     \u001b[38;5;28;01mreturn\u001b[39;00m transformer(res)\n",
      "\u001b[36mFile \u001b[39m\u001b[32mc:\\Users\\ExequielSilvestre\\Desktop\\Cursos\\legal-graphrag\\venv\\Lib\\site-packages\\neo4j\\_sync\\work\\transaction.py:206\u001b[39m, in \u001b[36mTransactionBase.run\u001b[39m\u001b[34m(self, query, parameters, **kwparameters)\u001b[39m\n\u001b[32m    203\u001b[39m \u001b[38;5;28mself\u001b[39m._results.append(result)\n\u001b[32m    205\u001b[39m parameters = \u001b[38;5;28mdict\u001b[39m(parameters \u001b[38;5;129;01mor\u001b[39;00m {}, **kwparameters)\n\u001b[32m--> \u001b[39m\u001b[32m206\u001b[39m \u001b[43mresult\u001b[49m\u001b[43m.\u001b[49m\u001b[43m_tx_ready_run\u001b[49m\u001b[43m(\u001b[49m\u001b[43mquery\u001b[49m\u001b[43m,\u001b[49m\u001b[43m \u001b[49m\u001b[43mparameters\u001b[49m\u001b[43m)\u001b[49m\n\u001b[32m    208\u001b[39m \u001b[38;5;28;01mreturn\u001b[39;00m result\n",
      "\u001b[36mFile \u001b[39m\u001b[32mc:\\Users\\ExequielSilvestre\\Desktop\\Cursos\\legal-graphrag\\venv\\Lib\\site-packages\\neo4j\\_sync\\work\\result.py:177\u001b[39m, in \u001b[36mResult._tx_ready_run\u001b[39m\u001b[34m(self, query, parameters)\u001b[39m\n\u001b[32m    173\u001b[39m \u001b[38;5;28;01mdef\u001b[39;00m\u001b[38;5;250m \u001b[39m\u001b[34m_tx_ready_run\u001b[39m(\u001b[38;5;28mself\u001b[39m, query, parameters):\n\u001b[32m    174\u001b[39m     \u001b[38;5;66;03m# BEGIN+RUN does not carry any extra on the RUN message.\u001b[39;00m\n\u001b[32m    175\u001b[39m     \u001b[38;5;66;03m# BEGIN {extra}\u001b[39;00m\n\u001b[32m    176\u001b[39m     \u001b[38;5;66;03m# RUN \"query\" {parameters} {extra}\u001b[39;00m\n\u001b[32m--> \u001b[39m\u001b[32m177\u001b[39m     \u001b[38;5;28;43mself\u001b[39;49m\u001b[43m.\u001b[49m\u001b[43m_run\u001b[49m\u001b[43m(\u001b[49m\u001b[43mquery\u001b[49m\u001b[43m,\u001b[49m\u001b[43m \u001b[49m\u001b[43mparameters\u001b[49m\u001b[43m,\u001b[49m\u001b[43m \u001b[49m\u001b[38;5;28;43;01mNone\u001b[39;49;00m\u001b[43m,\u001b[49m\u001b[43m \u001b[49m\u001b[38;5;28;43;01mNone\u001b[39;49;00m\u001b[43m,\u001b[49m\u001b[43m \u001b[49m\u001b[38;5;28;43;01mNone\u001b[39;49;00m\u001b[43m,\u001b[49m\u001b[43m \u001b[49m\u001b[38;5;28;43;01mNone\u001b[39;49;00m\u001b[43m,\u001b[49m\u001b[43m \u001b[49m\u001b[38;5;28;43;01mNone\u001b[39;49;00m\u001b[43m,\u001b[49m\u001b[43m \u001b[49m\u001b[38;5;28;43;01mNone\u001b[39;49;00m\u001b[43m)\u001b[49m\n",
      "\u001b[36mFile \u001b[39m\u001b[32mc:\\Users\\ExequielSilvestre\\Desktop\\Cursos\\legal-graphrag\\venv\\Lib\\site-packages\\neo4j\\_sync\\work\\result.py:236\u001b[39m, in \u001b[36mResult._run\u001b[39m\u001b[34m(self, query, parameters, db, imp_user, access_mode, bookmarks, notifications_min_severity, notifications_disabled_classifications)\u001b[39m\n\u001b[32m    234\u001b[39m \u001b[38;5;28mself\u001b[39m._pull()\n\u001b[32m    235\u001b[39m \u001b[38;5;28mself\u001b[39m._connection.send_all()\n\u001b[32m--> \u001b[39m\u001b[32m236\u001b[39m \u001b[38;5;28;43mself\u001b[39;49m\u001b[43m.\u001b[49m\u001b[43m_attach\u001b[49m\u001b[43m(\u001b[49m\u001b[43m)\u001b[49m\n",
      "\u001b[36mFile \u001b[39m\u001b[32mc:\\Users\\ExequielSilvestre\\Desktop\\Cursos\\legal-graphrag\\venv\\Lib\\site-packages\\neo4j\\_sync\\work\\result.py:430\u001b[39m, in \u001b[36mResult._attach\u001b[39m\u001b[34m(self)\u001b[39m\n\u001b[32m    428\u001b[39m \u001b[38;5;28;01mif\u001b[39;00m \u001b[38;5;28mself\u001b[39m._exhausted \u001b[38;5;129;01mis\u001b[39;00m \u001b[38;5;28;01mFalse\u001b[39;00m:\n\u001b[32m    429\u001b[39m     \u001b[38;5;28;01mwhile\u001b[39;00m \u001b[38;5;28mself\u001b[39m._attached \u001b[38;5;129;01mis\u001b[39;00m \u001b[38;5;28;01mFalse\u001b[39;00m:\n\u001b[32m--> \u001b[39m\u001b[32m430\u001b[39m         \u001b[38;5;28;43mself\u001b[39;49m\u001b[43m.\u001b[49m\u001b[43m_connection\u001b[49m\u001b[43m.\u001b[49m\u001b[43mfetch_message\u001b[49m\u001b[43m(\u001b[49m\u001b[43m)\u001b[49m\n",
      "\u001b[36mFile \u001b[39m\u001b[32mc:\\Users\\ExequielSilvestre\\Desktop\\Cursos\\legal-graphrag\\venv\\Lib\\site-packages\\neo4j\\_sync\\io\\_common.py:184\u001b[39m, in \u001b[36mConnectionErrorHandler.__getattr__.<locals>.outer.<locals>.inner\u001b[39m\u001b[34m(*args, **kwargs)\u001b[39m\n\u001b[32m    182\u001b[39m \u001b[38;5;28;01mdef\u001b[39;00m\u001b[38;5;250m \u001b[39m\u001b[34minner\u001b[39m(*args, **kwargs):\n\u001b[32m    183\u001b[39m     \u001b[38;5;28;01mtry\u001b[39;00m:\n\u001b[32m--> \u001b[39m\u001b[32m184\u001b[39m         \u001b[43mfunc\u001b[49m\u001b[43m(\u001b[49m\u001b[43m*\u001b[49m\u001b[43margs\u001b[49m\u001b[43m,\u001b[49m\u001b[43m \u001b[49m\u001b[43m*\u001b[49m\u001b[43m*\u001b[49m\u001b[43mkwargs\u001b[49m\u001b[43m)\u001b[49m\n\u001b[32m    185\u001b[39m     \u001b[38;5;28;01mexcept\u001b[39;00m (Neo4jError, ServiceUnavailable, SessionExpired) \u001b[38;5;28;01mas\u001b[39;00m exc:\n\u001b[32m    186\u001b[39m         \u001b[38;5;28;01massert\u001b[39;00m \u001b[38;5;129;01mnot\u001b[39;00m asyncio.iscoroutinefunction(\u001b[38;5;28mself\u001b[39m.__on_error)\n",
      "\u001b[36mFile \u001b[39m\u001b[32mc:\\Users\\ExequielSilvestre\\Desktop\\Cursos\\legal-graphrag\\venv\\Lib\\site-packages\\neo4j\\_sync\\io\\_bolt.py:864\u001b[39m, in \u001b[36mBolt.fetch_message\u001b[39m\u001b[34m(self)\u001b[39m\n\u001b[32m    860\u001b[39m \u001b[38;5;66;03m# Receive exactly one message\u001b[39;00m\n\u001b[32m    861\u001b[39m tag, fields = \u001b[38;5;28mself\u001b[39m.inbox.pop(\n\u001b[32m    862\u001b[39m     hydration_hooks=\u001b[38;5;28mself\u001b[39m.responses[\u001b[32m0\u001b[39m].hydration_hooks\n\u001b[32m    863\u001b[39m )\n\u001b[32m--> \u001b[39m\u001b[32m864\u001b[39m res = \u001b[38;5;28;43mself\u001b[39;49m\u001b[43m.\u001b[49m\u001b[43m_process_message\u001b[49m\u001b[43m(\u001b[49m\u001b[43mtag\u001b[49m\u001b[43m,\u001b[49m\u001b[43m \u001b[49m\u001b[43mfields\u001b[49m\u001b[43m)\u001b[49m\n\u001b[32m    865\u001b[39m \u001b[38;5;28mself\u001b[39m.idle_since = monotonic()\n\u001b[32m    866\u001b[39m \u001b[38;5;28;01mreturn\u001b[39;00m res\n",
      "\u001b[36mFile \u001b[39m\u001b[32mc:\\Users\\ExequielSilvestre\\Desktop\\Cursos\\legal-graphrag\\venv\\Lib\\site-packages\\neo4j\\_sync\\io\\_bolt5.py:1208\u001b[39m, in \u001b[36mBolt5x7._process_message\u001b[39m\u001b[34m(self, tag, fields)\u001b[39m\n\u001b[32m   1206\u001b[39m \u001b[38;5;28mself\u001b[39m._enrich_error_diagnostic_record(summary_metadata)\n\u001b[32m   1207\u001b[39m \u001b[38;5;28;01mtry\u001b[39;00m:\n\u001b[32m-> \u001b[39m\u001b[32m1208\u001b[39m     \u001b[43mresponse\u001b[49m\u001b[43m.\u001b[49m\u001b[43mon_failure\u001b[49m\u001b[43m(\u001b[49m\u001b[43msummary_metadata\u001b[49m\u001b[43m \u001b[49m\u001b[38;5;129;43;01mor\u001b[39;49;00m\u001b[43m \u001b[49m\u001b[43m{\u001b[49m\u001b[43m}\u001b[49m\u001b[43m)\u001b[49m\n\u001b[32m   1209\u001b[39m \u001b[38;5;28;01mexcept\u001b[39;00m (ServiceUnavailable, DatabaseUnavailable):\n\u001b[32m   1210\u001b[39m     \u001b[38;5;28;01mif\u001b[39;00m \u001b[38;5;28mself\u001b[39m.pool:\n",
      "\u001b[36mFile \u001b[39m\u001b[32mc:\\Users\\ExequielSilvestre\\Desktop\\Cursos\\legal-graphrag\\venv\\Lib\\site-packages\\neo4j\\_sync\\io\\_common.py:254\u001b[39m, in \u001b[36mResponse.on_failure\u001b[39m\u001b[34m(self, metadata)\u001b[39m\n\u001b[32m    252\u001b[39m handler = \u001b[38;5;28mself\u001b[39m.handlers.get(\u001b[33m\"\u001b[39m\u001b[33mon_summary\u001b[39m\u001b[33m\"\u001b[39m)\n\u001b[32m    253\u001b[39m Util.callback(handler)\n\u001b[32m--> \u001b[39m\u001b[32m254\u001b[39m \u001b[38;5;28;01mraise\u001b[39;00m \u001b[38;5;28mself\u001b[39m._hydrate_error(metadata)\n",
      "\u001b[31mCypherSyntaxError\u001b[39m: {code: Neo.ClientError.Statement.SyntaxError} {message: Invalid input 'The': expected 'FOREACH', 'ALTER', 'ORDER BY', 'CALL', 'USING PERIODIC COMMIT', 'CREATE', 'LOAD CSV', 'START DATABASE', 'STOP DATABASE', 'DEALLOCATE', 'DELETE', 'DENY', 'DETACH', 'DROP', 'DRYRUN', 'FINISH', 'GRANT', 'INSERT', 'LIMIT', 'MATCH', 'MERGE', 'NODETACH', 'OFFSET', 'OPTIONAL', 'REALLOCATE', 'REMOVE', 'RENAME', 'RETURN', 'REVOKE', 'ENABLE SERVER', 'SET', 'SHOW', 'SKIP', 'TERMINATE', 'UNWIND', 'USE' or 'WITH' (line 1, column 1 (offset: 0))\n\"The provided schema does not include any properties or relationships related to \"Graduation year.\" Therefore, it is not possible to construct a Cypher statement for this query based on the given schema.\"\n ^}"
     ]
    }
   ],
   "source": [
    "query = \"Graduation year\"\n",
    "response = process_input(query)\n",
    "print(\"--------FINAL ANSWER--------\")\n",
    "print(response)"
   ]
  }
 ],
 "metadata": {
  "kernelspec": {
   "display_name": "venv",
   "language": "python",
   "name": "python3"
  },
  "language_info": {
   "codemirror_mode": {
    "name": "ipython",
    "version": 3
   },
   "file_extension": ".py",
   "mimetype": "text/x-python",
   "name": "python",
   "nbconvert_exporter": "python",
   "pygments_lexer": "ipython3",
   "version": "3.12.7"
  }
 },
 "nbformat": 4,
 "nbformat_minor": 2
}
